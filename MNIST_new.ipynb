{
  "nbformat": 4,
  "nbformat_minor": 0,
  "metadata": {
    "colab": {
      "provenance": []
    },
    "kernelspec": {
      "name": "python3",
      "display_name": "Python 3"
    },
    "language_info": {
      "name": "python"
    }
  },
  "cells": [
    {
      "cell_type": "code",
      "execution_count": 1,
      "metadata": {
        "id": "uR-wHd3Z_ekE",
        "colab": {
          "base_uri": "https://localhost:8080/"
        },
        "outputId": "a5e5dd54-c667-4a1b-92c6-b2c2676bf848"
      },
      "outputs": [
        {
          "output_type": "stream",
          "name": "stdout",
          "text": [
            "Downloading data from https://storage.googleapis.com/tensorflow/tf-keras-datasets/mnist.npz\n",
            "11490434/11490434 [==============================] - 1s 0us/step\n"
          ]
        }
      ],
      "source": [
        "from tensorflow.keras.datasets import mnist\n",
        "(train_images, train_labels), (test_images, test_labels) = mnist.load_data()"
      ]
    },
    {
      "cell_type": "code",
      "source": [
        "train_images = train_images.reshape((60000, 28 * 28))\n",
        "train_images = train_images.astype(\"float32\") / 255\n",
        "test_images = test_images.reshape((10000, 28 * 28))\n",
        "test_images = test_images.astype(\"float32\") / 255"
      ],
      "metadata": {
        "id": "oNQjUHX1_oDC"
      },
      "execution_count": 2,
      "outputs": []
    },
    {
      "cell_type": "code",
      "source": [
        "from tensorflow import keras\n",
        "from tensorflow.keras import layers\n",
        "\n",
        "l = [2,3,4,5]\n",
        "val=[]\n",
        "model = keras.Sequential([\n",
        "      layers.Dense(512, activation=\"relu\"),\n",
        "      layers.Dense(10, activation=\"softmax\")\n",
        "  ])\n",
        "model.compile(optimizer=\"rmsprop\",\n",
        "                loss=\"sparse_categorical_crossentropy\",\n",
        "                metrics=[\"accuracy\"])\n",
        "model.fit(train_images, train_labels, epochs=5, batch_size=128)\n",
        "test_loss, test_acc = model.evaluate(test_images, test_labels)\n",
        "print(f\"test_acc: {test_acc}\")\n",
        "val.append(test_acc)\n",
        "\n",
        "model = keras.Sequential([\n",
        "      layers.Dense(512, activation=\"relu\"),\n",
        "      layers.Dense(512, activation=\"relu\"),\n",
        "      layers.Dense(10, activation=\"softmax\")\n",
        "  ])\n",
        "model.compile(optimizer=\"rmsprop\",\n",
        "                loss=\"sparse_categorical_crossentropy\",\n",
        "                metrics=[\"accuracy\"])\n",
        "model.fit(train_images, train_labels, epochs=5, batch_size=128)\n",
        "test_loss, test_acc = model.evaluate(test_images, test_labels)\n",
        "print(f\"test_acc: {test_acc}\")\n",
        "val.append(test_acc)\n",
        "\n",
        "model = keras.Sequential([\n",
        "      layers.Dense(512, activation=\"relu\"),\n",
        "      layers.Dense(512, activation=\"relu\"),\n",
        "      layers.Dense(512, activation=\"relu\"),\n",
        "      layers.Dense(10, activation=\"softmax\")\n",
        "  ])\n",
        "model.compile(optimizer=\"rmsprop\",\n",
        "                loss=\"sparse_categorical_crossentropy\",\n",
        "                metrics=[\"accuracy\"])\n",
        "model.fit(train_images, train_labels, epochs=5, batch_size=128)\n",
        "test_loss, test_acc = model.evaluate(test_images, test_labels)\n",
        "print(f\"test_acc: {test_acc}\")\n",
        "val.append(test_acc)\n",
        "\n",
        "model = keras.Sequential([\n",
        "      layers.Dense(512, activation=\"relu\"),\n",
        "      layers.Dense(512, activation=\"relu\"),\n",
        "      layers.Dense(512, activation=\"relu\"),\n",
        "      layers.Dense(512, activation=\"relu\"),\n",
        "      layers.Dense(10, activation=\"softmax\")\n",
        "  ])\n",
        "model.compile(optimizer=\"rmsprop\",\n",
        "                loss=\"sparse_categorical_crossentropy\",\n",
        "                metrics=[\"accuracy\"])\n",
        "model.fit(train_images, train_labels, epochs=5, batch_size=128)\n",
        "test_loss, test_acc = model.evaluate(test_images, test_labels)\n",
        "print(f\"test_acc: {test_acc}\")\n",
        "val.append(test_acc)\n"
      ],
      "metadata": {
        "colab": {
          "base_uri": "https://localhost:8080/"
        },
        "id": "YWe6ZMvc_sU5",
        "outputId": "26782af3-d3df-49aa-e52e-9eaca3fe4f4a"
      },
      "execution_count": 3,
      "outputs": [
        {
          "output_type": "stream",
          "name": "stdout",
          "text": [
            "Epoch 1/5\n",
            "469/469 [==============================] - 6s 12ms/step - loss: 0.2663 - accuracy: 0.9224\n",
            "Epoch 2/5\n",
            "469/469 [==============================] - 5s 11ms/step - loss: 0.1083 - accuracy: 0.9686\n",
            "Epoch 3/5\n",
            "469/469 [==============================] - 5s 10ms/step - loss: 0.0719 - accuracy: 0.9787\n",
            "Epoch 4/5\n",
            "469/469 [==============================] - 5s 11ms/step - loss: 0.0510 - accuracy: 0.9845\n",
            "Epoch 5/5\n",
            "469/469 [==============================] - 4s 10ms/step - loss: 0.0385 - accuracy: 0.9887\n",
            "313/313 [==============================] - 1s 4ms/step - loss: 0.0681 - accuracy: 0.9796\n",
            "test_acc: 0.9796000123023987\n",
            "Epoch 1/5\n",
            "469/469 [==============================] - 8s 16ms/step - loss: 0.2313 - accuracy: 0.9292\n",
            "Epoch 2/5\n",
            "469/469 [==============================] - 9s 18ms/step - loss: 0.0832 - accuracy: 0.9747\n",
            "Epoch 3/5\n",
            "469/469 [==============================] - 8s 18ms/step - loss: 0.0541 - accuracy: 0.9830\n",
            "Epoch 4/5\n",
            "469/469 [==============================] - 8s 17ms/step - loss: 0.0371 - accuracy: 0.9882\n",
            "Epoch 5/5\n",
            "469/469 [==============================] - 9s 18ms/step - loss: 0.0270 - accuracy: 0.9914\n",
            "313/313 [==============================] - 1s 4ms/step - loss: 0.0722 - accuracy: 0.9811\n",
            "test_acc: 0.9811000227928162\n",
            "Epoch 1/5\n",
            "469/469 [==============================] - 12s 25ms/step - loss: 0.2475 - accuracy: 0.9227\n",
            "Epoch 2/5\n",
            "469/469 [==============================] - 11s 24ms/step - loss: 0.0866 - accuracy: 0.9735\n",
            "Epoch 3/5\n",
            "469/469 [==============================] - 11s 24ms/step - loss: 0.0565 - accuracy: 0.9822\n",
            "Epoch 4/5\n",
            "469/469 [==============================] - 10s 22ms/step - loss: 0.0395 - accuracy: 0.9878\n",
            "Epoch 5/5\n",
            "469/469 [==============================] - 11s 24ms/step - loss: 0.0309 - accuracy: 0.9907\n",
            "313/313 [==============================] - 1s 4ms/step - loss: 0.0729 - accuracy: 0.9819\n",
            "test_acc: 0.9818999767303467\n",
            "Epoch 1/5\n",
            "469/469 [==============================] - 16s 32ms/step - loss: 0.2605 - accuracy: 0.9192\n",
            "Epoch 2/5\n",
            "469/469 [==============================] - 15s 31ms/step - loss: 0.0944 - accuracy: 0.9721\n",
            "Epoch 3/5\n",
            "469/469 [==============================] - 16s 34ms/step - loss: 0.0640 - accuracy: 0.9807\n",
            "Epoch 4/5\n",
            "469/469 [==============================] - 14s 31ms/step - loss: 0.0461 - accuracy: 0.9859\n",
            "Epoch 5/5\n",
            "469/469 [==============================] - 15s 31ms/step - loss: 0.0347 - accuracy: 0.9899\n",
            "313/313 [==============================] - 2s 5ms/step - loss: 0.0758 - accuracy: 0.9789\n",
            "test_acc: 0.9789000153541565\n"
          ]
        }
      ]
    }
  ]
}